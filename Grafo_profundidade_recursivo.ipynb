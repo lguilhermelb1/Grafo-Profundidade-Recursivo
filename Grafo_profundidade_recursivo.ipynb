{
 "cells": [
  {
   "cell_type": "code",
   "execution_count": 659,
   "metadata": {},
   "outputs": [],
   "source": [
    "import pandas as pd\n",
    "\n",
    "entrada = pd.read_csv(\"entrada.csv\", index_col=0, encoding = \"ISO-8859-1\")"
   ]
  },
  {
   "cell_type": "code",
   "execution_count": 660,
   "metadata": {},
   "outputs": [],
   "source": [
    "def lerEntrada(entrada):\n",
    "    grafo = {}\n",
    "    for i in entrada:\n",
    "        vizinhos = []\n",
    "        for j in range(1,len(entrada[i])+1):\n",
    "            if entrada[str(i)][j] == 1:\n",
    "                vizinhos.append(str(entrada.index[j-1]))\n",
    "                \n",
    "        grafo[i] = vizinhos\n",
    "    return grafo"
   ]
  },
  {
   "cell_type": "code",
   "execution_count": 661,
   "metadata": {},
   "outputs": [
    {
     "data": {
      "text/plain": [
       "{'1': ['2', '3'],\n",
       " '2': ['1', '4', '5'],\n",
       " '3': ['1', '2', '5'],\n",
       " '4': ['6'],\n",
       " '5': ['2', '3', '6'],\n",
       " '6': ['4', '5', '7'],\n",
       " '7': ['6']}"
      ]
     },
     "execution_count": 661,
     "metadata": {},
     "output_type": "execute_result"
    }
   ],
   "source": [
    "grafo = lerEntrada(entrada)\n",
    "grafo"
   ]
  },
  {
   "cell_type": "code",
   "execution_count": 662,
   "metadata": {},
   "outputs": [
    {
     "data": {
      "image/png": "[encoded data removed]",
      "text/plain": [
       "<Figure size 432x288 with 1 Axes>"
      ]
     },
     "metadata": {},
     "output_type": "display_data"
    }
   ],
   "source": [
    "import networkx as nx\n",
    "\n",
    "def mostrar(grafo):\n",
    "    g = nx.Graph()\n",
    "\n",
    "    for i in grafo:\n",
    "        g.add_node(i)\n",
    "        for j in grafo[i]:\n",
    "            g.add_edge(i,j)\n",
    "\n",
    "    nx.spring_layout(g, k=0.15)\n",
    "    nx.draw(g, with_labels=True)\n",
    "\n",
    "mostrar(grafo)\n"
   ]
  },
  {
   "cell_type": "code",
   "execution_count": 663,
   "metadata": {},
   "outputs": [],
   "source": [
    "def recursivo(grafo, vertice, G, auxiliar=[]):\n",
    "    auxiliar += [vertice]\n",
    "    G.add_node(vertice)\n",
    "    print(vertice)\n",
    "\n",
    "    for vizinho in grafo[vertice]:\n",
    "        if vizinho not in auxiliar:\n",
    "            G.add_edge(vertice, vizinho)\n",
    "            recursivo(grafo, vizinho, G, auxiliar)\n",
    "\n",
    "    return G\n"
   ]
  },
  {
   "cell_type": "code",
   "execution_count": 664,
   "metadata": {},
   "outputs": [],
   "source": [
    "import networkx as nx\n",
    "import random\n",
    "\n",
    "#Desenha a árvore\n",
    "def arvore(G, root=None, width=1., vert_gap = 0.2, vert_loc = 0, xcenter = 0.5):\n",
    "\n",
    "    if root is None:\n",
    "        if isinstance(G, nx.DiGraph):\n",
    "            root = next(iter(nx.topological_sort(G)))\n",
    "        else:\n",
    "            root = random.choice(list(G.nodes))\n",
    "\n",
    "    def _arvore(G, root, width=1, vert_gap = 0.2, vert_loc = 0, xcenter = 0.5, pos = None, parent = None):\n",
    "    \n",
    "        if pos is None:\n",
    "            pos = {root:(xcenter,vert_loc)}\n",
    "        else:\n",
    "            pos[root] = (xcenter, vert_loc)\n",
    "        filhos = list(G.neighbors(root))\n",
    "        if not isinstance(G, nx.DiGraph) and parent is not None:\n",
    "            filhos.remove(parent)  \n",
    "        if len(filhos)!=0:\n",
    "            dx = width/len(filhos) \n",
    "            nextx = xcenter - width/2 - dx/2\n",
    "            for filho in filhos:\n",
    "                nextx += dx\n",
    "                pos = _arvore(G,filho, width = dx, vert_gap = vert_gap, \n",
    "                                    vert_loc = vert_loc-vert_gap, xcenter=nextx,\n",
    "                                    pos=pos, parent = root)\n",
    "        return pos\n",
    "\n",
    "            \n",
    "    return _arvore(G, root, width, vert_gap, vert_loc, xcenter)"
   ]
  },
  {
   "cell_type": "code",
   "execution_count": 665,
   "metadata": {},
   "outputs": [
    {
     "name": "stdout",
     "output_type": "stream",
     "text": [
      "4\n",
      "6\n",
      "5\n",
      "2\n",
      "1\n",
      "3\n",
      "7\n"
     ]
    },
    {
     "data": {
      "image/png": "[encoded data removed]",
      "text/plain": [
       "<Figure size 432x288 with 1 Axes>"
      ]
     },
     "metadata": {},
     "output_type": "display_data"
    }
   ],
   "source": [
    "G = nx.Graph()\n",
    "vertice_inicial = '4'\n",
    "\n",
    "recursivo(grafo, vertice_inicial, G)\n",
    "\n",
    "pos = arvore(G, vertice_inicial)\n",
    "nx.draw(G, pos=pos, with_labels=True)"
   ]
  }
 ],
 "metadata": {
  "interpreter": {
   "hash": "8e5cf148e40f511b841453e75d3cde38afb0d7d689cd04786bec6af6637b8302"
  },
  "kernelspec": {
   "display_name": "Python 3.10.4 64-bit",
   "language": "python",
   "name": "python3"
  },
  "language_info": {
   "codemirror_mode": {
    "name": "ipython",
    "version": 3
   },
   "file_extension": ".py",
   "mimetype": "text/x-python",
   "name": "python",
   "nbconvert_exporter": "python",
   "pygments_lexer": "ipython3",
   "version": "3.10.4"
  },
  "orig_nbformat": 4
 },
 "nbformat": 4,
 "nbformat_minor": 2
}
